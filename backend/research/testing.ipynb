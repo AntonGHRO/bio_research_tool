{
 "cells": [
  {
   "cell_type": "code",
   "id": "initial_id",
   "metadata": {
    "collapsed": true,
    "ExecuteTime": {
     "end_time": "2025-05-02T14:59:18.474446Z",
     "start_time": "2025-05-02T14:59:18.467481Z"
    }
   },
   "source": "print(\"Anton e sexy\")",
   "outputs": [
    {
     "name": "stdout",
     "output_type": "stream",
     "text": [
      "Anton e sexy\n"
     ]
    }
   ],
   "execution_count": 1
  },
  {
   "metadata": {
    "ExecuteTime": {
     "end_time": "2025-05-02T14:59:47.020866Z",
     "start_time": "2025-05-02T14:59:47.016183Z"
    }
   },
   "cell_type": "code",
   "source": [
    "def add_numbers(a: float, b: float) -> float:\n",
    "    return a + b"
   ],
   "id": "319f78b4c7d7dbce",
   "outputs": [],
   "execution_count": 3
  },
  {
   "metadata": {
    "ExecuteTime": {
     "end_time": "2025-05-02T14:59:48.486860Z",
     "start_time": "2025-05-02T14:59:48.482729Z"
    }
   },
   "cell_type": "code",
   "source": [
    "# Test the function\n",
    "print(add_numbers(5, 3))\n"
   ],
   "id": "bf508250af26f652",
   "outputs": [
    {
     "name": "stdout",
     "output_type": "stream",
     "text": [
      "8\n"
     ]
    }
   ],
   "execution_count": 4
  }
 ],
 "metadata": {
  "kernelspec": {
   "display_name": "Python 3",
   "language": "python",
   "name": "python3"
  },
  "language_info": {
   "codemirror_mode": {
    "name": "ipython",
    "version": 2
   },
   "file_extension": ".py",
   "mimetype": "text/x-python",
   "name": "python",
   "nbconvert_exporter": "python",
   "pygments_lexer": "ipython2",
   "version": "2.7.6"
  }
 },
 "nbformat": 4,
 "nbformat_minor": 5
}
